{
 "cells": [
  {
   "cell_type": "markdown",
   "id": "107c9a65",
   "metadata": {},
   "source": [
    "# Lección 5: Herencia, Polimorfismo y Encapsulamiento II\n",
    "\n",
    "\n",
    "En esta lección profundizaremos en cómo derivar clases, sobrescribir comportamientos y aplicar mecanismos de encapsulamiento avanzado en Python."
   ]
  },
  {
   "cell_type": "markdown",
   "id": "6e8ed4fe",
   "metadata": {},
   "source": [
    "## Herencia básica\n",
    "\n",
    "Permite crear una clase hija que reutiliza y extiende atributos/métodos de la clase padre."
   ]
  },
  {
   "cell_type": "code",
   "execution_count": 7,
   "id": "4f4882b1",
   "metadata": {},
   "outputs": [
    {
     "name": "stdout",
     "output_type": "stream",
     "text": [
      "Laura está analizando datos en Econometría.\n",
      "Proyecto de Laura: Modelos de panel\n"
     ]
    }
   ],
   "source": [
    "class Economista:\n",
    "    def __init__(self, nombre, campo):\n",
    "        self.nombre = nombre\n",
    "        self.campo = campo\n",
    "        \n",
    "    def analizar(self):\n",
    "        return f\"{self.nombre} está analizando datos en {self.campo}.\"\n",
    "    \n",
    "# Clase hija que hereda de Economista\n",
    "class Investigador(Economista):\n",
    "    def __init__(self, nombre, campo, proyecto):\n",
    "        # Invoca el constructor de la clase padre\n",
    "        super().__init__(nombre, campo)\n",
    "        self.proyecto = proyecto\n",
    "        \n",
    "    # Nuevo método\n",
    "    def presentar_proyecto(self):\n",
    "        return f\"Proyecto de {self.nombre}: {self.proyecto}\"\n",
    "\n",
    "inv = Investigador(\"Laura\", \"Econometría\", \"Modelos de panel\")\n",
    "print(inv.analizar())               # usa método heredado\n",
    "print(inv.presentar_proyecto())     # método propio"
   ]
  },
  {
   "cell_type": "markdown",
   "id": "13e13de7",
   "metadata": {},
   "source": [
    "* `class Hija(Padre)`: declara la herencia.\n",
    "* `super().__init__(...)`: inicializa la parte padre de la instanica."
   ]
  },
  {
   "cell_type": "markdown",
   "id": "57ad7a7d",
   "metadata": {},
   "source": [
    "## Sobrescritura de métodos\n",
    "\n",
    "Una clase hija puede redefinir métodos del padre para cambiar su comportamiento.\n"
   ]
  },
  {
   "cell_type": "code",
   "execution_count": 11,
   "id": "510badc3",
   "metadata": {},
   "outputs": [
    {
     "name": "stdout",
     "output_type": "stream",
     "text": [
      "Informe genérico de economía: Análisis específico de series de tiempo\n"
     ]
    }
   ],
   "source": [
    "class Economista:\n",
    "    def reporte(self):\n",
    "        return \"Informe genérico de economía\"\n",
    "\n",
    "class Analista(Economista):\n",
    "    def reporte(self):\n",
    "        base = super().reporte()\n",
    "        return f\"{base}: Análisis específico de series de tiempo\"\n",
    "    \n",
    "a = Analista()\n",
    "print(a.reporte())\n",
    "# Informe genérico de economía: Análisis específico de series de tiempo"
   ]
  },
  {
   "cell_type": "markdown",
   "id": "d40ef61f",
   "metadata": {},
   "source": [
    "* Llamar a `super().metodo()` te permite combinar lógica padre y lógica hija."
   ]
  },
  {
   "cell_type": "markdown",
   "id": "72deaf05",
   "metadata": {},
   "source": [
    "## Polimorfismo\n",
    "\n",
    "Python es dinámicamente tipado y usa *duck typing*: cualquier objeto que implemente un método puede ser usado en su lugar."
   ]
  },
  {
   "cell_type": "code",
   "execution_count": 14,
   "id": "f3ad1475",
   "metadata": {},
   "outputs": [
    {
     "name": "stdout",
     "output_type": "stream",
     "text": [
      "Ajuste OLS\n",
      "Ajuste IV\n"
     ]
    }
   ],
   "source": [
    "class RegresionOLS:\n",
    "    def ajustar(self):\n",
    "        return \"Ajuste OLS\"\n",
    "    \n",
    "class RegresionIV:\n",
    "    def ajustar(self):\n",
    "        return \"Ajuste IV\"\n",
    "\n",
    "def evalua_modelo(modelo):\n",
    "    # No importa la clase, mientras tenga método ajustar()\n",
    "    print(modelo.ajustar())\n",
    "    \n",
    "evalua_modelo(RegresionOLS())\n",
    "evalua_modelo(RegresionIV())"
   ]
  },
  {
   "cell_type": "markdown",
   "id": "b40e9d25",
   "metadata": {},
   "source": [
    "* La función `evalua_modelo` trabaja con cualquier objeto que tenga el método `ajustar()`.\n",
    "* Facilita escribir código genérico y extensible."
   ]
  },
  {
   "cell_type": "markdown",
   "id": "8c013bf0",
   "metadata": {},
   "source": [
    "## Encapsulamiento avanzado\n",
    "\n",
    "a. Atributos \"protegidos\" y \"privados\"\n",
    "* `_atributo`: convención de uso interno.\n",
    "* `__atributo`: name-mangling para evitar colisiones en herencia."
   ]
  },
  {
   "cell_type": "code",
   "execution_count": 17,
   "id": "06d5b75e",
   "metadata": {},
   "outputs": [
    {
     "name": "stdout",
     "output_type": "stream",
     "text": [
      "[2, 4, 6]\n",
      "[1, 2, 3]\n"
     ]
    }
   ],
   "source": [
    "class DataManager:\n",
    "    def __init__(self, datos):\n",
    "        self._cache = {}                # \"protegido\"\n",
    "        self.__datos_original = datos   # \"privado\"\n",
    "    \n",
    "    def procesar(self):\n",
    "        # Accesointerno permitido\n",
    "        return [d*2 for d in self.__datos_original]\n",
    "\n",
    "dm = DataManager([1,2,3])\n",
    "print(dm.procesar())\n",
    "# print(dm.__datos_original)      # Error\n",
    "print(dm._DataManager__datos_original)  # posible, pero no recomendado"
   ]
  },
  {
   "cell_type": "markdown",
   "id": "6d4d1c00",
   "metadata": {},
   "source": [
    "b. Propiedades (`@property`)\n",
    "\n",
    "Permiten exponer métodos como atributos, controlando lectura y escritura."
   ]
  },
  {
   "cell_type": "code",
   "execution_count": null,
   "id": "4d716fa8",
   "metadata": {},
   "outputs": [
    {
     "name": "stdout",
     "output_type": "stream",
     "text": [
      "[0.5, 1.2]\n"
     ]
    },
    {
     "data": {
      "text/plain": [
       "(0.7, 1.4)"
      ]
     },
     "execution_count": 24,
     "metadata": {},
     "output_type": "execute_result"
    }
   ],
   "source": [
    "class Modelo:\n",
    "    def __init__(self, coeficientes):\n",
    "        self._coef = coeficientes\n",
    "        \n",
    "    @property\n",
    "    def coeficientes(self):\n",
    "        \"\"\"Getter\"\"\"\n",
    "        return self._coef\n",
    "    \n",
    "    @coeficientes.setter\n",
    "    def coeficientes(self, nuevos):\n",
    "        \"\"\"Setter con validación\"\"\"\n",
    "        if not isinstance(nuevos, (list, tuple)):\n",
    "            raise ValueError(\"Debe ser lista o tupla\")\n",
    "        self._coef = nuevos\n",
    "\n",
    "m = Modelo([0.5, 1.2])\n",
    "print(m.coeficientes)\n",
    "m.coeficientes = (0.7, 1.4)     # válido\n",
    "# m.coeficientes = \"error\"      # levanta ValueError"
   ]
  }
 ],
 "metadata": {
  "kernelspec": {
   "display_name": "base",
   "language": "python",
   "name": "python3"
  },
  "language_info": {
   "codemirror_mode": {
    "name": "ipython",
    "version": 3
   },
   "file_extension": ".py",
   "mimetype": "text/x-python",
   "name": "python",
   "nbconvert_exporter": "python",
   "pygments_lexer": "ipython3",
   "version": "3.12.7"
  }
 },
 "nbformat": 4,
 "nbformat_minor": 5
}
