{
 "cells": [
  {
   "cell_type": "markdown",
   "id": "144e94d3",
   "metadata": {},
   "source": [
    "# Lección 2: Estruturas de datos y comprensiones\n",
    "\n",
    "En esta segunda lección veremos las colleciones nativas de Python: listas, tuplas, diccionarios y conjuntos, y cómo escribir comprensiones de listas para trabajar de forma concisa."
   ]
  },
  {
   "cell_type": "markdown",
   "id": "87da8e9b",
   "metadata": {},
   "source": [
    "## Listas (`list`)\n",
    "\n",
    "* Definición: Colección ordenada y mutable de elementos.\n",
    "* Sintaxis:"
   ]
  },
  {
   "cell_type": "code",
   "execution_count": 2,
   "id": "8227c7ab",
   "metadata": {},
   "outputs": [],
   "source": [
    "frutas = [\"manzana\", \"pera\", \"naranja\"]"
   ]
  },
  {
   "cell_type": "markdown",
   "id": "ef7fe37c",
   "metadata": {},
   "source": [
    "* Operaciones comunes:"
   ]
  },
  {
   "cell_type": "code",
   "execution_count": 3,
   "id": "eca92c9c",
   "metadata": {},
   "outputs": [
    {
     "data": {
      "text/plain": [
       "['uva', 'naranja']"
      ]
     },
     "execution_count": 3,
     "metadata": {},
     "output_type": "execute_result"
    }
   ],
   "source": [
    "frutas.append(\"kiwi\")        # agrega al final\n",
    "frutas.insert(1, \"uva\")      # inserta en índice\n",
    "frutas.remove(\"pera\")        # elimina por valor\n",
    "frutas.pop()                 # elimina y devuelve último\n",
    "frutas[0] = \"banana\"         # reasignar un elemento\n",
    "len(frutas)                  # longitud\n",
    "frutas[1:3]                  # slicing (sublista)\n"
   ]
  },
  {
   "cell_type": "markdown",
   "id": "fb3edd50",
   "metadata": {},
   "source": [
    "* Equivalente en R:"
   ]
  },
  {
   "cell_type": "markdown",
   "id": "6aa1c618",
   "metadata": {},
   "source": [
    "```r\n",
    "frutas <- c(\"manzana\", \"pera\", \"naranja\")\n",
    "frutas <- c(frutas, \"kiwi\")  # append\n",
    "frutas[2] <- \"banana\"        # reasignar (1-based)\n",
    "frutas[-1]                   # vector sin primer elemento\n",
    "```\n"
   ]
  },
  {
   "cell_type": "markdown",
   "id": "e3c71fcb",
   "metadata": {},
   "source": [
    "## Tuplas (`tuple`)\n",
    "\n",
    "* Defunición: Colección ordenada e inmutable de elementos.\n",
    "* Sintaxis:"
   ]
  },
  {
   "cell_type": "code",
   "execution_count": 4,
   "id": "4de61877",
   "metadata": {},
   "outputs": [],
   "source": [
    "coordenada = (10, 20)"
   ]
  },
  {
   "cell_type": "markdown",
   "id": "7a20fe7b",
   "metadata": {},
   "source": [
    "* Uso típico: Retornas múltiples valores de una función, claves de diccionarios desempaquetado."
   ]
  },
  {
   "cell_type": "code",
   "execution_count": 5,
   "id": "f63accf3",
   "metadata": {},
   "outputs": [],
   "source": [
    "x, y = coordenada"
   ]
  },
  {
   "cell_type": "markdown",
   "id": "0cb69b72",
   "metadata": {},
   "source": [
    "Equivalente en R: No hay tuplas puras; a veces se usan vectores atómicos o `list()` cuando no se modifican."
   ]
  },
  {
   "cell_type": "markdown",
   "id": "73a54e16",
   "metadata": {},
   "source": [
    "## Diccionarios (`dict`)\n",
    "\n",
    "* Deifnición: Colección de pares clave-valor, mutable y desordenada.\n",
    "* Sintaxis:"
   ]
  },
  {
   "cell_type": "code",
   "execution_count": 6,
   "id": "34ea6328",
   "metadata": {},
   "outputs": [],
   "source": [
    "poblacion = {\"CDMX\": 9200000, \"GDL\": 1500000}"
   ]
  },
  {
   "cell_type": "markdown",
   "id": "500d4e3c",
   "metadata": {},
   "source": [
    "* Operaciones comunes:"
   ]
  },
  {
   "cell_type": "code",
   "execution_count": 7,
   "id": "27121483",
   "metadata": {},
   "outputs": [
    {
     "data": {
      "text/plain": [
       "1500000"
      ]
     },
     "execution_count": 7,
     "metadata": {},
     "output_type": "execute_result"
    }
   ],
   "source": [
    "poblacion[\"MTY\"] = 11500000             # agrega un nuevo elemento\n",
    "poblacion.get(\"CDMX\")                   # obtiene el valor de una clave\n",
    "\"Puebla\" in poblacion                   # verifica si la clave existe\n",
    "poblacion.keys(), poblacion.values()    \n",
    "poblacion.pop(\"GDL\")                        # elimina un elemento por clave"
   ]
  },
  {
   "cell_type": "markdown",
   "id": "14a9d16a",
   "metadata": {},
   "source": [
    "* Equivalente en R:\n",
    "\n",
    "```r\n",
    "poblacion <- list(CDMX = 9209944, \n",
    "                  GDL = 1500000)\n",
    "poblacion$MTY <- 1150000>\n",
    "```"
   ]
  },
  {
   "cell_type": "markdown",
   "id": "c2f48b89",
   "metadata": {},
   "source": [
    "## Conjuntos (`set`)\n",
    "\n",
    "* Definición: Colección no ordenada de elementos únicos.\n",
    "* Sintaxis:"
   ]
  },
  {
   "cell_type": "code",
   "execution_count": 8,
   "id": "4e0e16cf",
   "metadata": {},
   "outputs": [],
   "source": [
    "A = {1, 2, 3}\n",
    "B = set([2, 3, 4])\n"
   ]
  },
  {
   "cell_type": "markdown",
   "id": "b3576e30",
   "metadata": {},
   "source": [
    "* Operaciones de teoría de conjuntos:"
   ]
  },
  {
   "cell_type": "code",
   "execution_count": 15,
   "id": "66dcf7f6",
   "metadata": {},
   "outputs": [
    {
     "data": {
      "text/plain": [
       "{1, 4}"
      ]
     },
     "execution_count": 15,
     "metadata": {},
     "output_type": "execute_result"
    }
   ],
   "source": [
    "A.union(B)        # {1,2,3,4}\n",
    "A.intersection(B) # {2,3}\n",
    "A.difference(B)   # {1}\n",
    "A.symmetric_difference(B)  # {1,4}"
   ]
  },
  {
   "cell_type": "markdown",
   "id": "8d798616",
   "metadata": {},
   "source": [
    "* Equivalente en R:\n",
    "\n",
    "```r\n",
    "A <- unique(c(1, 2, 3))\n",
    "B <- unique(c(2, 3, 4))\n",
    "union(A, B)\n",
    "intersect(A, B)\n",
    "setdiff(A, B)\n",
    "```"
   ]
  },
  {
   "cell_type": "markdown",
   "id": "064c56f8",
   "metadata": {},
   "source": [
    "## Comprensiones de listas\n",
    "\n",
    "Permiten generar listas de forma declarativa, combinando bucle y condición en una sola expresión,\n",
    "\n",
    "* Sintaxis básica:"
   ]
  },
  {
   "cell_type": "code",
   "execution_count": 18,
   "id": "e3712c80",
   "metadata": {},
   "outputs": [],
   "source": [
    "cuadrados = [x**2 for x in range(1, 6)]\n",
    "# [1, 4, 9, 16, 25]"
   ]
  },
  {
   "cell_type": "markdown",
   "id": "c921a9a3",
   "metadata": {},
   "source": [
    "* Con condición:"
   ]
  },
  {
   "cell_type": "code",
   "execution_count": 22,
   "id": "05cd0732",
   "metadata": {},
   "outputs": [],
   "source": [
    "pares = [x for x in range(1, 11) if x%2 == 0]\n",
    "# [2, 4, 6, 8, 10]"
   ]
  },
  {
   "cell_type": "markdown",
   "id": "b1d24e6c",
   "metadata": {},
   "source": [
    "* Anidada (doble bucle):"
   ]
  },
  {
   "cell_type": "code",
   "execution_count": 25,
   "id": "1c2d3b63",
   "metadata": {},
   "outputs": [],
   "source": [
    "pares_cartesianos = [(i, j) for i in [1,2] for j  in [3,4]]\n",
    "# [(1, 3), (1, 4), (2, 3), (2, 4)]"
   ]
  },
  {
   "cell_type": "markdown",
   "id": "f275079f",
   "metadata": {},
   "source": [
    "**Tip R→Python:** En R harías sapply() o lapply(), o usas paquetes purrr::map(). En Python las comprehensions son nativas y muy legibles."
   ]
  },
  {
   "cell_type": "markdown",
   "id": "61b92f6c",
   "metadata": {},
   "source": []
  }
 ],
 "metadata": {
  "kernelspec": {
   "display_name": "base",
   "language": "python",
   "name": "python3"
  },
  "language_info": {
   "codemirror_mode": {
    "name": "ipython",
    "version": 3
   },
   "file_extension": ".py",
   "mimetype": "text/x-python",
   "name": "python",
   "nbconvert_exporter": "python",
   "pygments_lexer": "ipython3",
   "version": "3.12.7"
  }
 },
 "nbformat": 4,
 "nbformat_minor": 5
}
