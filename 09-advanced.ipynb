{
 "cells": [
  {
   "cell_type": "markdown",
   "id": "838f1c7f",
   "metadata": {},
   "source": [
    "# Lección 9: Modelos Avanzados – Panel Data, Efectos Mixtos, Series de Tiempo y GMM\n",
    "\n",
    "En esta lección cubriremos cuatro técnicas avanzadas para análisis de datos longitudinales y de series, así como estimación mediante métodos de momentos generales."
   ]
  },
  {
   "cell_type": "markdown",
   "id": "0efb5ade",
   "metadata": {},
   "source": [
    "## Datos de Panel: Efectos Fijos y Aleatorios\n",
    "\n",
    "a. Preparar datos de panel\n",
    "\n",
    "En esencial que tu `DataFrame` tenga un índice multiple `(entity, time)` o columnas que lo identifiquen."
   ]
  },
  {
   "cell_type": "code",
   "execution_count": 3,
   "id": "7fedaca9",
   "metadata": {},
   "outputs": [],
   "source": [
    "import pandas as pd\n",
    "from linearmodels.panel import PanelOLS, RandomEffects\n",
    "import statsmodels.api as sm\n",
    "\n",
    "# Ejemplo sintético\n",
    "df = pd.DataFrame({\n",
    "    \"firm\":    [\"A\",\"A\",\"B\",\"B\",\"C\",\"C\"],\n",
    "    \"year\":    [2018,2019,2018,2019,2018,2019],\n",
    "    \"y\":       [2.1,2.3,1.9,2.0,3.2,3.5],\n",
    "    \"x1\":      [5.0,5.1,4.8,4.9,6.0,6.1],\n",
    "})\n",
    "\n",
    "df = df.set_index([\"firm\", \"year\"])"
   ]
  },
  {
   "cell_type": "markdown",
   "id": "1537df46",
   "metadata": {},
   "source": [
    "b. Modelo de Efectos Fijos"
   ]
  },
  {
   "cell_type": "code",
   "execution_count": 4,
   "id": "be2d6482",
   "metadata": {},
   "outputs": [
    {
     "name": "stdout",
     "output_type": "stream",
     "text": [
      "                          PanelOLS Estimation Summary                           \n",
      "================================================================================\n",
      "Dep. Variable:                      y   R-squared:                        0.8571\n",
      "Estimator:                   PanelOLS   R-squared (Between):              0.4783\n",
      "No. Observations:                   6   R-squared (Within):               0.8571\n",
      "Date:                Sun, Jun 15 2025   R-squared (Overall):              0.4899\n",
      "Time:                        10:30:26   Log-likelihood                    10.677\n",
      "Cov. Estimator:            Unadjusted                                           \n",
      "                                        F-statistic:                      12.000\n",
      "Entities:                           3   P-value                           0.0742\n",
      "Avg Obs:                       2.0000   Distribution:                     F(1,2)\n",
      "Min Obs:                       2.0000                                           \n",
      "Max Obs:                       2.0000   F-statistic (robust):             12.000\n",
      "                                        P-value                           0.0742\n",
      "Time periods:                       2   Distribution:                     F(1,2)\n",
      "Avg Obs:                       3.0000                                           \n",
      "Min Obs:                       3.0000                                           \n",
      "Max Obs:                       3.0000                                           \n",
      "                                                                                \n",
      "                             Parameter Estimates                              \n",
      "==============================================================================\n",
      "            Parameter  Std. Err.     T-stat    P-value    Lower CI    Upper CI\n",
      "------------------------------------------------------------------------------\n",
      "const         -8.1333     3.0697    -2.6495     0.1178     -21.341      5.0746\n",
      "x1             2.0000     0.5774     3.4641     0.0742     -0.4841      4.4841\n",
      "==============================================================================\n",
      "\n",
      "F-test for Poolability: 1.0779\n",
      "P-value: 0.4813\n",
      "Distribution: F(2,2)\n",
      "\n",
      "Included effects: Entity\n"
     ]
    }
   ],
   "source": [
    "# Agregar constante\n",
    "exog = sm.add_constant(df[[\"x1\"]])\n",
    "mod_fe = PanelOLS(df[\"y\"], exog, entity_effects=True)\n",
    "res_fe = mod_fe.fit()\n",
    "print(res_fe.summary)"
   ]
  },
  {
   "cell_type": "markdown",
   "id": "ac5215ab",
   "metadata": {},
   "source": [
    "* `entity_effects=True` añade interceptos propios para cada firma.\n",
    "* controla heterogeneidad inobservable constante en el tiempo."
   ]
  },
  {
   "cell_type": "markdown",
   "id": "f031a340",
   "metadata": {},
   "source": [
    "c. Modelo de Efectos Aleatorios"
   ]
  },
  {
   "cell_type": "code",
   "execution_count": 6,
   "id": "7fe8c57c",
   "metadata": {},
   "outputs": [
    {
     "name": "stdout",
     "output_type": "stream",
     "text": [
      "                        RandomEffects Estimation Summary                        \n",
      "================================================================================\n",
      "Dep. Variable:                      y   R-squared:                        0.9910\n",
      "Estimator:              RandomEffects   R-squared (Between):              0.9998\n",
      "No. Observations:                   6   R-squared (Within):               0.7091\n",
      "Date:                Sun, Jun 15 2025   R-squared (Overall):              0.9910\n",
      "Time:                        10:32:09   Log-likelihood                    8.4831\n",
      "Cov. Estimator:            Unadjusted                                           \n",
      "                                        F-statistic:                      438.75\n",
      "Entities:                           3   P-value                           0.0000\n",
      "Avg Obs:                       2.0000   Distribution:                     F(1,4)\n",
      "Min Obs:                       2.0000                                           \n",
      "Max Obs:                       2.0000   F-statistic (robust):             438.75\n",
      "                                        P-value                           0.0000\n",
      "Time periods:                       2   Distribution:                     F(1,4)\n",
      "Avg Obs:                       3.0000                                           \n",
      "Min Obs:                       3.0000                                           \n",
      "Max Obs:                       3.0000                                           \n",
      "                                                                                \n",
      "                             Parameter Estimates                              \n",
      "==============================================================================\n",
      "            Parameter  Std. Err.     T-stat    P-value    Lower CI    Upper CI\n",
      "------------------------------------------------------------------------------\n",
      "const         -3.7143     0.2981    -12.459     0.0002     -4.5420     -2.8865\n",
      "x1             1.1688     0.0558     20.946     0.0000      1.0139      1.3238\n",
      "==============================================================================\n"
     ]
    }
   ],
   "source": [
    "mod_re = RandomEffects(df[\"y\"], exog)\n",
    "res_re = mod_re.fit()\n",
    "print(res_re.summary)"
   ]
  },
  {
   "cell_type": "markdown",
   "id": "970066d8",
   "metadata": {},
   "source": [
    "* Utiliza un término aleatorio en lugar de interceptos fijos.\n",
    "* Puedes contrastar con Hausman test para elegir entre FE y RE."
   ]
  },
  {
   "cell_type": "markdown",
   "id": "295119c0",
   "metadata": {},
   "source": [
    "## Modelos de Efectos Mixtos (Mixed Models)\n",
    "\n",
    "Usa `MixedLM` de statsmodels para incluir efectos fijos y aletorios en jerarquías más complejas."
   ]
  },
  {
   "cell_type": "code",
   "execution_count": 11,
   "id": "1533b011",
   "metadata": {},
   "outputs": [
    {
     "name": "stdout",
     "output_type": "stream",
     "text": [
      "        Mixed Linear Model Regression Results\n",
      "======================================================\n",
      "Model:            MixedLM Dependent Variable: score   \n",
      "No. Observations: 10      Method:             REML    \n",
      "No. Groups:       2       Scale:              2.2400  \n",
      "Min. group size:  5       Log-Likelihood:     -17.3058\n",
      "Max. group size:  5       Converged:          Yes     \n",
      "Mean group size:  5.0                                 \n",
      "------------------------------------------------------\n",
      "            Coef.  Std.Err.   z    P>|z| [0.025 0.975]\n",
      "------------------------------------------------------\n",
      "Intercept   68.349    4.639 14.734 0.000 59.257 77.441\n",
      "hours        4.153    1.230  3.376 0.001  1.742  6.564\n",
      "school Var   3.367    5.302                           \n",
      "======================================================\n",
      "\n"
     ]
    }
   ],
   "source": [
    "import statsmodels.api as sm\n",
    "from statsmodels.regression.mixed_linear_model import MixedLM\n",
    "\n",
    "# Supongamos datos de estudiantes en escuelas\n",
    "data = pd.DataFrame({\n",
    "    \"school\":   [\"S1\"]*5 + [\"S2\"]*5,\n",
    "    \"student\":  list(range(10)),\n",
    "    \"score\":    [75,80,78,82,79,88,85,87,90,89],\n",
    "    \"hours\":    [2,3,2.5,3.5,3,4,4.5,4,5,4.5]\n",
    "})\n",
    "\n",
    "# Efecto aleatorio por escuela\n",
    "model_mixed = MixedLM.from_formula(\"score ~ hours\", groups = \"school\", data = data)\n",
    "res_mixed = model_mixed.fit()\n",
    "print(res_mixed.summary())"
   ]
  },
  {
   "cell_type": "markdown",
   "id": "2e60ac45",
   "metadata": {},
   "source": [
    "* `groups` determina el clustering para los efectos aleatorios.\n",
    "* Puedes añadir efectos aleatorios adicionales con `re_formula`.\n"
   ]
  },
  {
   "cell_type": "markdown",
   "id": "8e0e2480",
   "metadata": {},
   "source": [
    "## Series de Tiempo: Modelos ARIMA y Descomposición\n",
    "\n",
    "a. Descomposición de series"
   ]
  },
  {
   "cell_type": "markdown",
   "id": "d4cae0cc",
   "metadata": {},
   "source": [
    "```python\n",
    "from statsmodels.tsa.seasonal import seasonal_decompose\n",
    "\n",
    "serie = pd.Series(..., index=pd.date_range(\"2020-01-01\", periods=36, freq=\"M\"))\n",
    "descomp = seasonal_decompose(serie, model=\"additive\")\n",
    "descomp.plot()\n",
    "```\n",
    "* `trend`, `seasonal` y `resid` para diagnóstico visual."
   ]
  },
  {
   "cell_type": "markdown",
   "id": "5fc5f7cb",
   "metadata": {},
   "source": [
    "b. ARIMA\n",
    "\n",
    "```python\n",
    "from statsmodels.tsa.arima_model import ARIMA\n",
    "\n",
    "# Ajustar un ARIMA(p,d,q)\n",
    "model_arima = ARIMA(serie, order = (1,1,1))\n",
    "res_arima = model_arima.fit()\n",
    "print(res_arima.summary())\n",
    "\n",
    "# Pronóstico\n",
    "pred = res_arima.get_forecast(steps = 12)\n",
    "pred_ci = pred.conf_int()\n",
    "```\n",
    "\n",
    "* `order=(p,d,q)` controla AR, diferenciación y M.\n",
    "* Revisa AIC/BIC para seleccionar el mejor modelo."
   ]
  },
  {
   "cell_type": "markdown",
   "id": "101734d1",
   "metadata": {},
   "source": [
    "## Estimación por GMM (Generalized Method of Moments)\n",
    "\n",
    "La implementación en `statsmodels` se encuentra en el sandbox, o bien puedes usar `linearmodels.iv.GMM`."
   ]
  },
  {
   "cell_type": "code",
   "execution_count": 14,
   "id": "02d974c9",
   "metadata": {},
   "outputs": [
    {
     "name": "stdout",
     "output_type": "stream",
     "text": [
      "Optimization terminated successfully.\n",
      "         Current function value: 0.000000\n",
      "         Iterations: 4\n",
      "         Function evaluations: 11\n",
      "         Gradient evaluations: 11\n",
      "Optimization terminated successfully.\n",
      "         Current function value: 0.000000\n",
      "         Iterations: 0\n",
      "         Function evaluations: 1\n",
      "         Gradient evaluations: 1\n",
      "[-3.71428571  1.16883117]\n"
     ]
    }
   ],
   "source": [
    "from statsmodels.sandbox.regression.gmm import GMM\n",
    "\n",
    "class LinearGMM(GMM):\n",
    "    def momcond(self, params):\n",
    "        beta = params\n",
    "        X = self.exog\n",
    "        y = self.endog\n",
    "        u = y - X.dot(beta)\n",
    "        # Condiciones: E[z * u] = 0, con z = X (exógenos puros)\n",
    "        return (self.instrument * u[:, None])\n",
    "\n",
    "# Datos\n",
    "y = df[\"y\"].values\n",
    "X = exog.values\n",
    "instr = X.copy()  # IV = X, para ilustración\n",
    "\n",
    "gmm_mod = LinearGMM(y, X, instr)\n",
    "res_gmm = gmm_mod.fit(start_params=[0,1], maxiter=2)\n",
    "print(res_gmm.params)\n"
   ]
  }
 ],
 "metadata": {
  "kernelspec": {
   "display_name": "base",
   "language": "python",
   "name": "python3"
  },
  "language_info": {
   "codemirror_mode": {
    "name": "ipython",
    "version": 3
   },
   "file_extension": ".py",
   "mimetype": "text/x-python",
   "name": "python",
   "nbconvert_exporter": "python",
   "pygments_lexer": "ipython3",
   "version": "3.12.7"
  }
 },
 "nbformat": 4,
 "nbformat_minor": 5
}
