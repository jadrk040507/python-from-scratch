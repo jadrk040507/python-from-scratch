{
 "cells": [
  {
   "cell_type": "markdown",
   "id": "23308b70",
   "metadata": {},
   "source": [
    "# Lección 4: Programación Orientada a Objetos (POO) I\n",
    "\n",
    "En esta lección aprenderás a definir tus propias clases en Python, crear objetos (instancias) y trabajar con atributos y métodos básicos.\n",
    "\n"
   ]
  },
  {
   "cell_type": "markdown",
   "id": "93812a76",
   "metadata": {},
   "source": [
    "## Definición de una clase"
   ]
  },
  {
   "cell_type": "code",
   "execution_count": 4,
   "id": "b338e970",
   "metadata": {},
   "outputs": [],
   "source": [
    "class Persona:\n",
    "    \"\"\"Clase que representa a una persona.\"\"\"\n",
    "    def __init__(self, nombre, edad):\n",
    "        # Atributos de instancia\n",
    "        self.nombre = nombre\n",
    "        self.edad = edad"
   ]
  },
  {
   "cell_type": "markdown",
   "id": "4e06c70e",
   "metadata": {},
   "source": [
    "* `class NombreClase:` declara la clase.\n",
    "* `__init__(self, ...)` es el constructor; `self` es la referencia al objeto recién creado.\n",
    "* Los atributos como `self.atributo` existen en cada instancia."
   ]
  },
  {
   "cell_type": "markdown",
   "id": "abca718c",
   "metadata": {},
   "source": [
    "```r\n",
    "Persona <- R6::R6Class(\"Persona\",\n",
    "  public = list(\n",
    "    nombre = NULL, edad = NULL,\n",
    "    initialize = function(nombre, edad) {\n",
    "      self$nombre <- nombre; self$edad <- edad\n",
    "    }\n",
    "  )\n",
    ")\n",
    "\n",
    "```"
   ]
  },
  {
   "cell_type": "markdown",
   "id": "463eb92a",
   "metadata": {},
   "source": [
    "## Instanciar objetos"
   ]
  },
  {
   "cell_type": "code",
   "execution_count": 7,
   "id": "d3c654a5",
   "metadata": {},
   "outputs": [
    {
     "name": "stdout",
     "output_type": "stream",
     "text": [
      "Ana 30\n"
     ]
    }
   ],
   "source": [
    "p1 = Persona(\"Ana\", 30)\n",
    "p2 = Persona(\"Luis\", 25)\n",
    "\n",
    "print(p1.nombre, p1.edad)   # Ana 30"
   ]
  },
  {
   "cell_type": "markdown",
   "id": "69c305f8",
   "metadata": {},
   "source": [
    "Llamas al constructos de la clase como si fuera una función."
   ]
  },
  {
   "cell_type": "markdown",
   "id": "d511a178",
   "metadata": {},
   "source": [
    "## Métodos de instancia"
   ]
  },
  {
   "cell_type": "code",
   "execution_count": 22,
   "id": "9fc3afad",
   "metadata": {},
   "outputs": [
    {
     "name": "stdout",
     "output_type": "stream",
     "text": [
      "Hola, soy Carlos y tengo 28 años.\n"
     ]
    }
   ],
   "source": [
    "class Persona:\n",
    "    def __init__(self, nombre, edad):\n",
    "        self.nombre = nombre\n",
    "        self.edad = edad\n",
    "        \n",
    "    def saludar(self):\n",
    "        return f\"Hola, soy {self.nombre} y tengo {self.edad} años.\"\n",
    "\n",
    "p = Persona(\"Carlos\", 28)\n",
    "print(p.saludar())  # Hola, soy Carlos y tengo 28 años."
   ]
  },
  {
   "cell_type": "markdown",
   "id": "8d5403df",
   "metadata": {},
   "source": [
    "* Los métodos reciben siempre `self` como primer argumento, que permite acceder a atributos y otros métodos."
   ]
  },
  {
   "cell_type": "markdown",
   "id": "baab1182",
   "metadata": {},
   "source": [
    "## Representación de objetos\n",
    "\n",
    "* `__repr__`: devuelve una cadena \"oficial\" (ideal para debugging).\n",
    "* `__str__`: cadena \"amigable\" (para `print()`)."
   ]
  },
  {
   "cell_type": "code",
   "execution_count": 24,
   "id": "9239892b",
   "metadata": {},
   "outputs": [
    {
     "name": "stdout",
     "output_type": "stream",
     "text": [
      "Luisa (22 años)\n"
     ]
    }
   ],
   "source": [
    "class Persona:\n",
    "    def __init__(self, nombre, edad):\n",
    "        self.nombre = nombre\n",
    "        self.edad = edad\n",
    "    \n",
    "    def __repr__(self):\n",
    "        return f\"Persona(nombre = {self.nombre!r}, edad = {self.edad})\"\n",
    "    \n",
    "    def __str__(self):\n",
    "        return f\"{self.nombre} ({self.edad} años)\"\n",
    "    \n",
    "    p = Persona(\"Luisa\", 22)\n",
    "    p        # Persona(nombre='Luisa', edad=22)\n",
    "    print(p) # Luisa (22 años)"
   ]
  },
  {
   "cell_type": "markdown",
   "id": "71213821",
   "metadata": {},
   "source": [
    "## Atributos de clase vs. instancia"
   ]
  },
  {
   "cell_type": "code",
   "execution_count": 25,
   "id": "8c9c5f2c",
   "metadata": {},
   "outputs": [
    {
     "name": "stdout",
     "output_type": "stream",
     "text": [
      "Economía\n",
      "Economía Economía\n"
     ]
    }
   ],
   "source": [
    "class Economista:\n",
    "    facultad = \"Economía\"       # atributos de clase\n",
    "    \n",
    "    def __init__(self, nombre):\n",
    "        self.nombre = nombre    # atributo de instancia\n",
    "    \n",
    "e1 = Economista(\"María\")\n",
    "e2 = Economista(\"Juan\")\n",
    "print(Economista.facultad)  # Economía\n",
    "print(e1.facultad, e2.facultad)  # Economía Economía"
   ]
  },
  {
   "cell_type": "markdown",
   "id": "f5a7a4a2",
   "metadata": {},
   "source": [
    "* **Instancia:** almacenado por cada objeto (`self.nombre`).\n",
    "* **Clase:** compartido por todas las instancias (`Economista.facultad`). "
   ]
  },
  {
   "cell_type": "markdown",
   "id": "b2d58d57",
   "metadata": {},
   "source": [
    "## Encapsulamiento (convención)\n",
    "\n",
    "* Un solo guion bajo (`_atributo`) indica \"privado\" por convención.\n",
    "* Dos guiones bajos (`__atributo`) activan *name mangling* para evitar colisiones en herencia.\n",
    "  * `obj.__x` &rarr; Error.\n",
    "  * `obj._Clase__x` &rarr; funciona, pero no es recomendado."
   ]
  },
  {
   "cell_type": "code",
   "execution_count": 30,
   "id": "633aaa02",
   "metadata": {},
   "outputs": [
    {
     "name": "stdout",
     "output_type": "stream",
     "text": [
      "protegido\n",
      "privado\n"
     ]
    }
   ],
   "source": [
    "class Test:\n",
    "    def __init__(self):\n",
    "        self._prot = \"protegido\"\n",
    "        self.__priv = \"privado\"\n",
    "\n",
    "t = Test()\n",
    "print(t._prot)          # accesible, pero \"no tocar\"\n",
    "# print(t.__priv)       # ERROR\n",
    "print(t._Test__priv)    # se puede acceder, pero no es recomendado"
   ]
  }
 ],
 "metadata": {
  "kernelspec": {
   "display_name": "base",
   "language": "python",
   "name": "python3"
  },
  "language_info": {
   "codemirror_mode": {
    "name": "ipython",
    "version": 3
   },
   "file_extension": ".py",
   "mimetype": "text/x-python",
   "name": "python",
   "nbconvert_exporter": "python",
   "pygments_lexer": "ipython3",
   "version": "3.12.7"
  }
 },
 "nbformat": 4,
 "nbformat_minor": 5
}
