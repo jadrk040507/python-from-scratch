{
 "cells": [
  {
   "cell_type": "markdown",
   "id": "e9fe7e92",
   "metadata": {},
   "source": [
    "# Lección 7: NumPy y pandas para manipulación de datos\n",
    "\n",
    "En este módulo aprenderás a usar NumPy para cálculos numéricos eficientes y pandas para trabajar con datos tabulares al estilo “tidy” (orden limpio) frente al tradicional `data.frame` de R.\n",
    "\n"
   ]
  },
  {
   "cell_type": "markdown",
   "id": "88341ee4",
   "metadata": {},
   "source": [
    "## NumPy: Arrays y operaciones vectorizadas\n",
    "\n",
    "a. Creación de arrays"
   ]
  },
  {
   "cell_type": "code",
   "execution_count": 4,
   "id": "23cdea1a",
   "metadata": {},
   "outputs": [],
   "source": [
    "import numpy as np\n",
    "\n",
    "# 1D: vector\n",
    "v = np.array([1, 2, 3, 4, 5])\n",
    "\n",
    "# 2D: matriz\n",
    "M = np.array([[1, 2, 3],\n",
    "             [4, 5, 6]])\n",
    "\n",
    "# zeros, ones, arange y linspace\n",
    "z = np.zeros((3,))          # [0., 0., 0.]\n",
    "o = np.ones((2, 3))         # matriz 2×3 de unos\n",
    "r = np.arange(0, 10, 2)     # [0, 2, 4, 6, 8]\n",
    "l = np.linspace(0, 1, 5)    # [0., 0.25, 0.5, 0.75, 1.]"
   ]
  },
  {
   "cell_type": "markdown",
   "id": "af0640ef",
   "metadata": {},
   "source": [
    "b. Indexación y slicing"
   ]
  },
  {
   "cell_type": "code",
   "execution_count": 7,
   "id": "7556e3f1",
   "metadata": {},
   "outputs": [
    {
     "data": {
      "text/plain": [
       "array([4, 5, 6])"
      ]
     },
     "execution_count": 7,
     "metadata": {},
     "output_type": "execute_result"
    }
   ],
   "source": [
    "# 1D\n",
    "v[0]       # primer elemento\n",
    "v[-1]      # último elemento\n",
    "v[1:4]     # subvector\n",
    "\n",
    "# 2D\n",
    "M[0, 1]    # fila 0, columna 1\n",
    "M[:, 2]    # toda la fila para columna 2 → [3, 6]\n",
    "M[1, :]    # fila 1 → [4, 5, 6]"
   ]
  },
  {
   "cell_type": "markdown",
   "id": "d70e5ecf",
   "metadata": {},
   "source": [
    "c. Operaciones vectorizadas"
   ]
  },
  {
   "cell_type": "code",
   "execution_count": 8,
   "id": "ba763921",
   "metadata": {},
   "outputs": [
    {
     "data": {
      "text/plain": [
       "array([[11, 12, 13],\n",
       "       [21, 22, 23],\n",
       "       [31, 32, 33]])"
      ]
     },
     "execution_count": 8,
     "metadata": {},
     "output_type": "execute_result"
    }
   ],
   "source": [
    "# Operaciones elemento a elemento\n",
    "v * 2          # [2, 4, 6, 8, 10]\n",
    "v + np.array([5,5,5,5,5])\n",
    "\n",
    "# Álgebra lineal\n",
    "M.dot(v[:3])   # producto matriz–vector\n",
    "np.linalg.inv(np.eye(2))  # inversa de matriz 2×2\n",
    "\n",
    "# Broadcasting\n",
    "a = np.array([1, 2, 3])\n",
    "b = np.array([[10], [20], [30]])\n",
    "a + b  # suma broadcasting → cada fila de b + a\n"
   ]
  },
  {
   "cell_type": "markdown",
   "id": "fe1f8815",
   "metadata": {},
   "source": [
    "Analogía con R:\n",
    "* Vectores NumPy ≈ vectores atómicos de R;\n",
    "* Matrices NumPy ≈ matrices de R;\n",
    "* Broadcasting ≈ operaciones “replicadas” por vectores reciclando en R."
   ]
  },
  {
   "cell_type": "markdown",
   "id": "cc623e79",
   "metadata": {},
   "source": [
    "## pandas: Series y DataFrame\n",
    "\n",
    "a. Creación"
   ]
  },
  {
   "cell_type": "code",
   "execution_count": null,
   "id": "e72f314a",
   "metadata": {},
   "outputs": [],
   "source": [
    "import pandas as pd\n",
    "\n",
    "# Series: etiqueta unidimensional\n",
    "s = pd.Series([10, 20, 30], index = [\"a\",\"b\", \"c\"])\n",
    "\n",
    "# DataFrame: tabla bidimensional\n",
    "df = pd.DataFrame({\n",
    "    \"ciudad\": [\"CDMX\", \"GDL\", \"MTY\"],\n",
    "    \"poblacion\": [9.2e6, 1.5e6, 1.15e6]\n",
    "})"
   ]
  },
  {
   "cell_type": "markdown",
   "id": "8cfab0e6",
   "metadata": {},
   "source": [
    "b. Indexación y selección"
   ]
  },
  {
   "cell_type": "code",
   "execution_count": 17,
   "id": "4d93ad61",
   "metadata": {},
   "outputs": [
    {
     "data": {
      "text/html": [
       "<div>\n",
       "<style scoped>\n",
       "    .dataframe tbody tr th:only-of-type {\n",
       "        vertical-align: middle;\n",
       "    }\n",
       "\n",
       "    .dataframe tbody tr th {\n",
       "        vertical-align: top;\n",
       "    }\n",
       "\n",
       "    .dataframe thead th {\n",
       "        text-align: right;\n",
       "    }\n",
       "</style>\n",
       "<table border=\"1\" class=\"dataframe\">\n",
       "  <thead>\n",
       "    <tr style=\"text-align: right;\">\n",
       "      <th></th>\n",
       "      <th>ciudad</th>\n",
       "      <th>poblacion</th>\n",
       "    </tr>\n",
       "  </thead>\n",
       "  <tbody>\n",
       "    <tr>\n",
       "      <th>0</th>\n",
       "      <td>CDMX</td>\n",
       "      <td>9200000.0</td>\n",
       "    </tr>\n",
       "    <tr>\n",
       "      <th>1</th>\n",
       "      <td>GDL</td>\n",
       "      <td>1500000.0</td>\n",
       "    </tr>\n",
       "    <tr>\n",
       "      <th>2</th>\n",
       "      <td>MTY</td>\n",
       "      <td>1150000.0</td>\n",
       "    </tr>\n",
       "  </tbody>\n",
       "</table>\n",
       "</div>"
      ],
      "text/plain": [
       "  ciudad  poblacion\n",
       "0   CDMX  9200000.0\n",
       "1    GDL  1500000.0\n",
       "2    MTY  1150000.0"
      ]
     },
     "execution_count": 17,
     "metadata": {},
     "output_type": "execute_result"
    }
   ],
   "source": [
    "# Selección de columna (Series)\n",
    "df[\"poblacion\"]\n",
    "\n",
    "# .loc usa etiquetas, .iloc usa posiciones\n",
    "df.loc[1, \"ciudad\"]     # GDL\n",
    "df.iloc[0,1]            # 9.2e6\n",
    "\n",
    "# Filtrado por condición\n",
    "df[df[\"poblacion\"] > 1e6]\n"
   ]
  },
  {
   "cell_type": "markdown",
   "id": "77f0e1ff",
   "metadata": {},
   "source": [
    "Analogía con R:\n",
    "* `pd.DataFrame` ≈ `data.frame` o `tibble`;\n",
    "* Selección con `$`, `[` y `filter()` en dplyr ≈ `.loc`, boolean indexing."
   ]
  },
  {
   "cell_type": "markdown",
   "id": "9ad1cccf",
   "metadata": {},
   "source": [
    "c. Lectura y escritura de datos"
   ]
  },
  {
   "cell_type": "markdown",
   "id": "730fe08c",
   "metadata": {},
   "source": [
    "```python\n",
    "# CSV\n",
    "df = pd.read_csv(\"datos.csv\")\n",
    "df.to_csv(\"salida.csv\", index=False)\n",
    "\n",
    "# Excel\n",
    "df = pd.read_excel(\"datos.xlsx\", sheet_name=\"Hoja1\")\n",
    "df.to_excel(\"salida.xlsx\", index=False)\n",
    "\n",
    "```"
   ]
  },
  {
   "cell_type": "markdown",
   "id": "181fe65d",
   "metadata": {},
   "source": [
    "## Operaciones básicas de DataFrame\n",
    "\n",
    "a. Descripción y resumen\n",
    "\n",
    "```python\n",
    "df.describe()        # estadísticas descriptivas de columnas numéricas\n",
    "df.info()            # tipos y conteos de valores no nulos\n",
    "```\n",
    "\n",
    "b. Ordenar y renombrar\n",
    "\n",
    "```python\n",
    "df.sort_values(\"poblacion\", ascending=False)\n",
    "df.rename(columns={\"poblacion\": \"hab\"}, inplace=True)\n",
    "```\n",
    "\n",
    "c. Selección de columnas\n",
    "\n",
    "```python\n",
    "df[[\"ciudad\", \"poblacion\"]]\n",
    "```"
   ]
  },
  {
   "cell_type": "markdown",
   "id": "a8be4497",
   "metadata": {},
   "source": [
    "## Agrupaciones y merges\n",
    "\n",
    "a. Agrupar (`groupby`)"
   ]
  },
  {
   "cell_type": "code",
   "execution_count": 18,
   "id": "9bbf4f34",
   "metadata": {},
   "outputs": [
    {
     "data": {
      "text/plain": [
       "producto\n",
       "A    250\n",
       "B    200\n",
       "C    300\n",
       "Name: venta, dtype: int64"
      ]
     },
     "execution_count": 18,
     "metadata": {},
     "output_type": "execute_result"
    }
   ],
   "source": [
    "ventas = pd.DataFrame({\n",
    "    \"producto\": [\"A\", \"B\", \"A\", \"C\"],\n",
    "    \"venta\": [100, 200, 150, 300]\n",
    "})\n",
    "ventas.groupby(\"producto\")[\"venta\"].sum()\n",
    "# producto\n",
    "# A    250\n",
    "# B    200\n",
    "# C    300\n"
   ]
  },
  {
   "cell_type": "markdown",
   "id": "8d8d6b88",
   "metadata": {},
   "source": [
    "b. Merge / Join (similar a `merge()` en R)"
   ]
  },
  {
   "cell_type": "markdown",
   "id": "461d7e52",
   "metadata": {},
   "source": [
    "```python\n",
    "info = pd.DataFrame({\n",
    "    \"ciudad\": [\"CDMX\", \"GDL\"],\n",
    "    \"region\": [\"Centro\", \"Occidente\"]\n",
    "})\n",
    "df.merge(info, on=\"ciudad\", how=\"left\")\n",
    "```"
   ]
  },
  {
   "cell_type": "markdown",
   "id": "2dafdd70",
   "metadata": {},
   "source": [
    "## Tidy vs. wide: melt y pivot\n",
    "\n",
    "a. De wide a tidy (melt)"
   ]
  },
  {
   "cell_type": "code",
   "execution_count": 22,
   "id": "f34dedf5",
   "metadata": {},
   "outputs": [],
   "source": [
    "df_wide = pd.DataFrame({\n",
    "    \"id\": [1,2],\n",
    "    \"ingresos_2020\": [500, 600],\n",
    "    \"ingresos_2021\": [550, 650]\n",
    "})\n",
    "df_tidy = df_wide.melt(id_vars = \"id\",\n",
    "                       value_vars = [\"ingresos_2020\", \"ingresos_2021\"],\n",
    "                       var_name = \"año\",\n",
    "                       value_name = \"ingreso\")\n"
   ]
  },
  {
   "cell_type": "markdown",
   "id": "9c9fcc93",
   "metadata": {},
   "source": [
    "b. De tidy a wide (pivot)"
   ]
  },
  {
   "cell_type": "code",
   "execution_count": 23,
   "id": "b2f7b22b",
   "metadata": {},
   "outputs": [
    {
     "data": {
      "text/html": [
       "<div>\n",
       "<style scoped>\n",
       "    .dataframe tbody tr th:only-of-type {\n",
       "        vertical-align: middle;\n",
       "    }\n",
       "\n",
       "    .dataframe tbody tr th {\n",
       "        vertical-align: top;\n",
       "    }\n",
       "\n",
       "    .dataframe thead th {\n",
       "        text-align: right;\n",
       "    }\n",
       "</style>\n",
       "<table border=\"1\" class=\"dataframe\">\n",
       "  <thead>\n",
       "    <tr style=\"text-align: right;\">\n",
       "      <th>año</th>\n",
       "      <th>ingresos_2020</th>\n",
       "      <th>ingresos_2021</th>\n",
       "    </tr>\n",
       "    <tr>\n",
       "      <th>id</th>\n",
       "      <th></th>\n",
       "      <th></th>\n",
       "    </tr>\n",
       "  </thead>\n",
       "  <tbody>\n",
       "    <tr>\n",
       "      <th>1</th>\n",
       "      <td>500</td>\n",
       "      <td>550</td>\n",
       "    </tr>\n",
       "    <tr>\n",
       "      <th>2</th>\n",
       "      <td>600</td>\n",
       "      <td>650</td>\n",
       "    </tr>\n",
       "  </tbody>\n",
       "</table>\n",
       "</div>"
      ],
      "text/plain": [
       "año  ingresos_2020  ingresos_2021\n",
       "id                               \n",
       "1              500            550\n",
       "2              600            650"
      ]
     },
     "execution_count": 23,
     "metadata": {},
     "output_type": "execute_result"
    }
   ],
   "source": [
    "df_tidy.pivot(index = \"id\", columns = \"año\", values = \"ingreso\")"
   ]
  },
  {
   "cell_type": "markdown",
   "id": "7d30039d",
   "metadata": {},
   "source": [
    "Equivalente en R (tidyr):\n",
    "* `melt()` ≈ `pivot_longer()`;\n",
    "* `pivot()` ≈ `pivot_wider()`."
   ]
  }
 ],
 "metadata": {
  "kernelspec": {
   "display_name": "base",
   "language": "python",
   "name": "python3"
  },
  "language_info": {
   "codemirror_mode": {
    "name": "ipython",
    "version": 3
   },
   "file_extension": ".py",
   "mimetype": "text/x-python",
   "name": "python",
   "nbconvert_exporter": "python",
   "pygments_lexer": "ipython3",
   "version": "3.12.7"
  }
 },
 "nbformat": 4,
 "nbformat_minor": 5
}
