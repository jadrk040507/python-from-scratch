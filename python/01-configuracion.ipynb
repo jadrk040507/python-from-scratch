{
 "cells": [
  {
   "cell_type": "markdown",
   "id": "8454b981",
   "metadata": {},
   "source": [
    "# Lección 1: Configuración de entorno y sintaxis básica\n",
    "\n",
    "Este notebook cubre:\n",
    "- Tu primer \"¡Hola, Mundo!\"\n",
    "- Tipos de datos básicos"
   ]
  },
  {
   "cell_type": "markdown",
   "id": "918eb651",
   "metadata": {},
   "source": [
    "## ¡Hola, Mundo!"
   ]
  },
  {
   "cell_type": "code",
   "execution_count": 1,
   "id": "ac85d309",
   "metadata": {},
   "outputs": [
    {
     "name": "stdout",
     "output_type": "stream",
     "text": [
      "Hello, World!\n"
     ]
    }
   ],
   "source": [
    "def main():\n",
    "    print(\"Hello, World!\")\n",
    "    \n",
    "if __name__ == \"__main__\":\n",
    "    main()\n",
    "    \n",
    "# This script prints \"Hello, World!\" to the console."
   ]
  },
  {
   "cell_type": "markdown",
   "id": "fb9cc7a1",
   "metadata": {},
   "source": [
    "## Tipos de datos básicos en Python\n",
    "\n",
    "Prueba las siguientes asignaciones y observa el tipo:"
   ]
  },
  {
   "cell_type": "code",
   "execution_count": 2,
   "id": "ec713c8c",
   "metadata": {},
   "outputs": [
    {
     "name": "stdout",
     "output_type": "stream",
     "text": [
      "<class 'int'> <class 'float'> <class 'str'> <class 'bool'>\n"
     ]
    }
   ],
   "source": [
    "x = 10          # entero\n",
    "pi = 3.1416     # float\n",
    "name = \"Juan\"   # cadena\n",
    "is_active = False  # booleano\n",
    "\n",
    "print(type(x), type(pi), type(name), type(is_active))"
   ]
  }
 ],
 "metadata": {
  "kernelspec": {
   "display_name": "base",
   "language": "python",
   "name": "python3"
  },
  "language_info": {
   "codemirror_mode": {
    "name": "ipython",
    "version": 3
   },
   "file_extension": ".py",
   "mimetype": "text/x-python",
   "name": "python",
   "nbconvert_exporter": "python",
   "pygments_lexer": "ipython3",
   "version": "3.12.7"
  }
 },
 "nbformat": 4,
 "nbformat_minor": 5
}
