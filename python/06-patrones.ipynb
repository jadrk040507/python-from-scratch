{
 "cells": [
  {
   "cell_type": "markdown",
   "id": "da914aea",
   "metadata": {},
   "source": [
    "# Lección 6: Patrones de Diseño en Python\n",
    "\n",
    "En esta lección exploraremos tres patrones de diseño muy comunes y útiles en proyectos Python: Singleton, Factory y Strategy. Veremos su propósito, implementación y ejemplos prácticos."
   ]
  },
  {
   "cell_type": "markdown",
   "id": "8c4454d6",
   "metadata": {},
   "source": [
    "## Singleton\n",
    "\n",
    "Garantiza que una clase tenga única instancia y proporciona un punto de acceso global a ella."
   ]
  },
  {
   "cell_type": "code",
   "execution_count": 8,
   "id": "cb84507b",
   "metadata": {},
   "outputs": [
    {
     "name": "stdout",
     "output_type": "stream",
     "text": [
      "True\n",
      "['Inicio de análisis']\n"
     ]
    }
   ],
   "source": [
    "class SingletonMeta(type):\n",
    "    _instances = {}\n",
    "    \n",
    "    def __call__(cls, *args, **kwargs):\n",
    "        if cls not in cls._instances:\n",
    "            # La primera vez crea la instancia\n",
    "            cls._instances[cls] = super().__call__(*args, **kwargs)\n",
    "        return cls._instances[cls]\n",
    "    \n",
    "class Logger(metaclass = SingletonMeta):\n",
    "    def __init__(self):\n",
    "        self.logs = []\n",
    "        \n",
    "    def log(self, mensaje):\n",
    "        self.logs.append(mensaje)\n",
    "        \n",
    "# Uso\n",
    "log1 = Logger()\n",
    "log2 = Logger()\n",
    "log1.log(\"Inicio de análisis\")\n",
    "print(log1 is log2)     # True: misma instancia\n",
    "print(log2.logs)        # ['Inicio de análisis']"
   ]
  },
  {
   "cell_type": "markdown",
   "id": "6c17efbc",
   "metadata": {},
   "source": [
    "* Cuándo usarlo: cuando necesitas un único punto de configuración o registro (p.ej., conexión a base de datos, logger global)."
   ]
  },
  {
   "cell_type": "markdown",
   "id": "74a0dca1",
   "metadata": {},
   "source": [
    "## Factory\n",
    "\n",
    "Provee una interfaz para crear objetos sin exponer la lógica de instanciación al cliente."
   ]
  },
  {
   "cell_type": "code",
   "execution_count": 34,
   "id": "3f88562a",
   "metadata": {},
   "outputs": [
    {
     "name": "stdout",
     "output_type": "stream",
     "text": [
      "Ajuste OLS\n",
      "Ajuste Poisson\n"
     ]
    }
   ],
   "source": [
    "from abc import ABC, abstractmethod\n",
    "\n",
    "# Productos\n",
    "class Modelo(ABC):\n",
    "    @abstractmethod\n",
    "    def entrenar(self, datos):\n",
    "        pass\n",
    "\n",
    "class OLS(Modelo):\n",
    "    def entrenar(self, datos):\n",
    "        return \"Ajuste OLS\"\n",
    "    \n",
    "class Poisson(Modelo):\n",
    "    def entrenar(self, datos):\n",
    "        return \"Ajuste Poisson\"\n",
    "\n",
    "# Fabricante (Factory)\n",
    "class ModeloFactory:\n",
    "    @staticmethod\n",
    "    def crear_modelo(tipo, **kwargs):\n",
    "        if tipo == \"ols\":\n",
    "            return OLS(**kwargs)\n",
    "        elif tipo == \"poisson\":\n",
    "            return Poisson(**kwargs)\n",
    "        else:\n",
    "            raise ValueError(f\"Modelo desconocido: {tipo}\")\n",
    "        \n",
    "# Uso\n",
    "m1 = ModeloFactory.crear_modelo(\"ols\")\n",
    "m2 = ModeloFactory.crear_modelo(\"poisson\")\n",
    "print(m1.entrenar(None))    # Ajuste OLS\n",
    "print(m2.entrenar(None))    # Ajuste Poisson\n",
    "    "
   ]
  },
  {
   "cell_type": "markdown",
   "id": "3ab21f4b",
   "metadata": {},
   "source": [
    "* Ventaja: separa la lógica de elección de implementación, facilita extensión y pruebas."
   ]
  },
  {
   "cell_type": "markdown",
   "id": "b1b5d50f",
   "metadata": {},
   "source": [
    "## Strategy\n",
    "\n",
    "Define una familia de algoritmos intercambiables y los hace intercambiables dentro de un contexto común."
   ]
  },
  {
   "cell_type": "code",
   "execution_count": 43,
   "id": "3867e190",
   "metadata": {},
   "outputs": [
    {
     "name": "stdout",
     "output_type": "stream",
     "text": [
      "Optimizando f_obj con Gradiente Descenso desde 1\n",
      "Optimizando f_obj con Nelder-Mead desde 1\n"
     ]
    }
   ],
   "source": [
    "from abc import ABC, abstractmethod\n",
    "\n",
    "# Estrategias\n",
    "class EstrategiaOptim(ABC):\n",
    "    @abstractmethod\n",
    "    def optimizar(self, func, x0):\n",
    "        pass\n",
    "\n",
    "class GradienteDescenso(EstrategiaOptim):\n",
    "    def optimizar(self, func, x0):\n",
    "        return f\"Optimizando {func.__name__} con Gradiente Descenso desde {x0}\"\n",
    "    \n",
    "class NelderMead(EstrategiaOptim):\n",
    "    def optimizar(self, func, x0):\n",
    "        return f\"Optimizando {func.__name__} con Nelder-Mead desde {x0}\"\n",
    "\n",
    "# Contexto\n",
    "class Optimizador:\n",
    "    def __init__(self, estrategia: EstrategiaOptim):\n",
    "        self._estrategia = estrategia\n",
    "        \n",
    "    def set_estrategia(self, estrategia: EstrategiaOptim):\n",
    "        self._estrategia = estrategia\n",
    "        \n",
    "    def optimizar(self, func, x0):\n",
    "        return self._estrategia.optimizar(func, x0)\n",
    "    \n",
    "# Uso\n",
    "def f_obj(x): return x**2\n",
    "\n",
    "opt = Optimizador(GradienteDescenso())\n",
    "print(opt.optimizar(f_obj, 1))\n",
    "# Cambiamos de estrategia en tiempo de ejecución\n",
    "opt.set_estrategia(NelderMead())\n",
    "print(opt.optimizar(f_obj, 1))"
   ]
  },
  {
   "cell_type": "markdown",
   "id": "e64dd212",
   "metadata": {},
   "source": [
    "* Cuándo usarlo: cuando tienes varias formas de resolver un mismo problema (p.ej., distintos estimadores, métodos de optimización)."
   ]
  }
 ],
 "metadata": {
  "kernelspec": {
   "display_name": "base",
   "language": "python",
   "name": "python3"
  },
  "language_info": {
   "codemirror_mode": {
    "name": "ipython",
    "version": 3
   },
   "file_extension": ".py",
   "mimetype": "text/x-python",
   "name": "python",
   "nbconvert_exporter": "python",
   "pygments_lexer": "ipython3",
   "version": "3.12.7"
  }
 },
 "nbformat": 4,
 "nbformat_minor": 5
}
