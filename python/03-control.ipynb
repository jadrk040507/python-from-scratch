{
 "cells": [
  {
   "cell_type": "markdown",
   "id": "24b5a2cb",
   "metadata": {},
   "source": [
    "# Lección 3: Control de flujo y comprensiones avanzadas\n",
    "\n",
    "En esta lección repasaremos cómo dirigir el flujo de ejecución en Python con condicionales y bucles, y exploraremos comprensiones avanzadas (diccionarios, conjuntos y generadores)."
   ]
  },
  {
   "cell_type": "markdown",
   "id": "c369aa9c",
   "metadata": {},
   "source": [
    "## Condicionales (`if`/`elif`/`else`)"
   ]
  },
  {
   "cell_type": "code",
   "execution_count": 1,
   "id": "196556e2",
   "metadata": {},
   "outputs": [
    {
     "name": "stdout",
     "output_type": "stream",
     "text": [
      "Entre 5 y 9\n"
     ]
    }
   ],
   "source": [
    "x = 7\n",
    "\n",
    "if x < 5:\n",
    "    print(\"Menor que 5\")\n",
    "elif 5 <= x < 10:\n",
    "    print(\"Entre 5 y 9\")\n",
    "else:\n",
    "    print(\"10 o más\")"
   ]
  },
  {
   "cell_type": "markdown",
   "id": "c6e81211",
   "metadata": {},
   "source": [
    "* Sintaxis:\n",
    "  * No hay paréntesis obligatorios alrededor de la condición.\n",
    "  * El bloque se delimita por indentción (4 espacios por convención).\n",
    "* Equivalente en R:\n",
    "\n",
    "```r\n",
    "if (x < 5) {\n",
    "  print(\"Menor que 5\")\n",
    "} else if (x < 10) {\n",
    "  print(\"Entre 5 y 9\")\n",
    "} else {\n",
    "  print(\"10 o más\")\n",
    "}"
   ]
  },
  {
   "cell_type": "markdown",
   "id": "b2e16d97",
   "metadata": {},
   "source": [
    "## Bucle `for`\n",
    "\n",
    "Recomendado para iterar sobre secuencias (listas, tuplas, diccionarios, strings, rangos, etc.)."
   ]
  },
  {
   "cell_type": "code",
   "execution_count": 3,
   "id": "d5148b1d",
   "metadata": {},
   "outputs": [
    {
     "name": "stdout",
     "output_type": "stream",
     "text": [
      "manzana\n",
      "pera\n",
      "naranja\n",
      "0 manzana\n",
      "1 pera\n",
      "2 naranja\n",
      "1 manzana\n",
      "2 pera\n",
      "3 naranja\n",
      "CDMX: 9,200,000\n",
      "GDL: 15,000,000\n"
     ]
    }
   ],
   "source": [
    "# Iterar sobre una lista\n",
    "frutas = [\"manzana\", \"pera\", \"naranja\"]\n",
    "for f in frutas:\n",
    "    print(f)\n",
    "\n",
    "# Iterar sobre índices\n",
    "for i in range(len(frutas)):\n",
    "    print(i, frutas[i])\n",
    "    \n",
    "# Iterar con enumerate (índice y valor)\n",
    "for idx, valor in enumerate(frutas, start = 1):\n",
    "    print(idx, valor)\n",
    "\n",
    "# Iterar sobre claves y valores de un diccionario\n",
    "poblacion = {\"CDMX\": 9200000, \"GDL\": 15000000}\n",
    "for ciudad, hab in poblacion.items():\n",
    "    print(f\"{ciudad}: {hab:,}\")"
   ]
  },
  {
   "cell_type": "markdown",
   "id": "ff478603",
   "metadata": {},
   "source": [
    "## Bucle `while`\n",
    "\n",
    "Útil cuando no sabemos de antemano cuántas iteraciones harán falta."
   ]
  },
  {
   "cell_type": "code",
   "execution_count": 5,
   "id": "95fa09fc",
   "metadata": {},
   "outputs": [
    {
     "name": "stdout",
     "output_type": "stream",
     "text": [
      "Iteración 0\n",
      "Iteración 1\n",
      "Iteración 2\n",
      "Terminado\n"
     ]
    }
   ],
   "source": [
    "contador = 0\n",
    "while contador < 3:\n",
    "    print(\"Iteración\", contador)\n",
    "    contador += 1\n",
    "else:\n",
    "    print(\"Terminado\")"
   ]
  },
  {
   "cell_type": "markdown",
   "id": "913c2539",
   "metadata": {},
   "source": [
    "* El bloque `else` se ejecuta cuando la condición se hace falsa (y no por un `break`)."
   ]
  },
  {
   "cell_type": "markdown",
   "id": "fe579222",
   "metadata": {},
   "source": [
    "## Control de bucle: `break` y `continue`"
   ]
  },
  {
   "cell_type": "code",
   "execution_count": 6,
   "id": "b4e697e4",
   "metadata": {},
   "outputs": [
    {
     "name": "stdout",
     "output_type": "stream",
     "text": [
      "1\n",
      "3\n"
     ]
    }
   ],
   "source": [
    "for n in range(1, 10):\n",
    "    if n == 5:\n",
    "        break       # sale del bucle por completo\n",
    "    if n%2 == 0:\n",
    "        continue    # salta a la siguiente iteración\n",
    "    print(n)"
   ]
  },
  {
   "cell_type": "markdown",
   "id": "658d7ed6",
   "metadata": {},
   "source": [
    "*  `break`: interrumpe el bucle.\n",
    "*  `continue`: salta al siguiente ciclo sin ejecutar lo que sigue."
   ]
  },
  {
   "cell_type": "markdown",
   "id": "338cefd5",
   "metadata": {},
   "source": [
    "## Comprensiones avanzadas\n",
    "\n",
    "a. Diccionarios (`dict` comprehension) "
   ]
  },
  {
   "cell_type": "code",
   "execution_count": 9,
   "id": "d91d59c1",
   "metadata": {},
   "outputs": [],
   "source": [
    "# Invertir un diccionario\n",
    "orig = {\"a\": 1, \"b\": 2, \"c\": 3}\n",
    "invertido = {v: k for k, v in orig.items()}\n",
    "# {1: 'a', 2: 'b', 3: 'c'}"
   ]
  },
  {
   "cell_type": "markdown",
   "id": "5979b487",
   "metadata": {},
   "source": [
    "b. Conjuntos (`set` comprehension)"
   ]
  },
  {
   "cell_type": "code",
   "execution_count": 14,
   "id": "d4792921",
   "metadata": {},
   "outputs": [],
   "source": [
    "# Cuadrados únicos de números\n",
    "cuadrados = {x**2 for x in range(10)}\n",
    "# {0, 1, 4, 9, 16, 25, 36, 49, 64, 81}"
   ]
  },
  {
   "cell_type": "markdown",
   "id": "823c5544",
   "metadata": {},
   "source": [
    "c. Generadores (expresiones)\n",
    "No almacenan toda la secuencia en memoria, sino que la van produciendo bajo demanda."
   ]
  },
  {
   "cell_type": "code",
   "execution_count": 15,
   "id": "42c4979f",
   "metadata": {},
   "outputs": [
    {
     "name": "stdout",
     "output_type": "stream",
     "text": [
      "0\n",
      "1\n",
      "4\n",
      "9\n",
      "16\n"
     ]
    }
   ],
   "source": [
    "gen = (x**2 for x in range(5))\n",
    "for val in gen:\n",
    "    print(val)"
   ]
  },
  {
   "cell_type": "markdown",
   "id": "f24251a4",
   "metadata": {},
   "source": [
    "* Puedes pasar un generador a funciones como `sum(gen)` o a un bucle."
   ]
  }
 ],
 "metadata": {
  "kernelspec": {
   "display_name": "base",
   "language": "python",
   "name": "python3"
  },
  "language_info": {
   "codemirror_mode": {
    "name": "ipython",
    "version": 3
   },
   "file_extension": ".py",
   "mimetype": "text/x-python",
   "name": "python",
   "nbconvert_exporter": "python",
   "pygments_lexer": "ipython3",
   "version": "3.12.7"
  }
 },
 "nbformat": 4,
 "nbformat_minor": 5
}
