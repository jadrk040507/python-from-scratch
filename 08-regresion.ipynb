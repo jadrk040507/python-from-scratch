{
 "cells": [
  {
   "cell_type": "markdown",
   "id": "3f1b8159",
   "metadata": {},
   "source": [
    "# Lección 8: Regresión OLS con statsmodels y pruebas de hipótesis\n",
    "\n",
    "\n",
    "En esta lección aprenderás a estimar modelos de regresión lineal clásica en Python usando `statsmodels`, interpretar los resultados y realizar pruebas de hipótesis básicas (t-test y F-test)."
   ]
  },
  {
   "cell_type": "markdown",
   "id": "8cd5b245",
   "metadata": {},
   "source": [
    "## Preparar entorno"
   ]
  },
  {
   "cell_type": "code",
   "execution_count": 4,
   "id": "bb57e803",
   "metadata": {},
   "outputs": [],
   "source": [
    "import numpy as np\n",
    "import pandas as pd\n",
    "import statsmodels.api as sm\n",
    "import statsmodels.formula.api as smf"
   ]
  },
  {
   "cell_type": "markdown",
   "id": "c3aab7d2",
   "metadata": {},
   "source": [
    "* `statsmodels.api` (interfaz orientada a matrices)\n",
    "* `statsmodels.formula.api` (fórmula estilo E con strings)"
   ]
  },
  {
   "cell_type": "markdown",
   "id": "263c3dc9",
   "metadata": {},
   "source": [
    "## Crear datos de ejemplo"
   ]
  },
  {
   "cell_type": "code",
   "execution_count": 5,
   "id": "2b2e44aa",
   "metadata": {},
   "outputs": [],
   "source": [
    "np.random.seed(123)\n",
    "n = 100\n",
    "X1 = np.random.normal(0, 1, n)\n",
    "X2 = np.random.normal(5, 2, n)\n",
    "ε  = np.random.normal(0, 0.5, n)\n",
    "\n",
    "# Genera la variable dependiente\n",
    "β0, β1, β2 = 2.0, 1.5, -0.8\n",
    "Y = β0 + β1 * X1 + β2 * X2 + ε\n",
    "\n",
    "df = pd.DataFrame({\"Y\": Y, \"X1\": X1, \"X2\": X2})\n"
   ]
  },
  {
   "cell_type": "markdown",
   "id": "62d0fbfa",
   "metadata": {},
   "source": [
    "* Simulamos un modelo con intercepto y dos regresores más ruido."
   ]
  },
  {
   "cell_type": "markdown",
   "id": "8af4dbea",
   "metadata": {},
   "source": [
    "## Ajustes vía matrices (`API`)"
   ]
  },
  {
   "cell_type": "code",
   "execution_count": 10,
   "id": "317b3258",
   "metadata": {},
   "outputs": [
    {
     "name": "stdout",
     "output_type": "stream",
     "text": [
      "                            OLS Regression Results                            \n",
      "==============================================================================\n",
      "Dep. Variable:                      Y   R-squared:                       0.957\n",
      "Model:                            OLS   Adj. R-squared:                  0.956\n",
      "Method:                 Least Squares   F-statistic:                     1086.\n",
      "Date:                Sun, 15 Jun 2025   Prob (F-statistic):           3.94e-67\n",
      "Time:                        00:42:36   Log-Likelihood:                -69.269\n",
      "No. Observations:                 100   AIC:                             144.5\n",
      "Df Residuals:                      97   BIC:                             152.4\n",
      "Df Model:                           2                                         \n",
      "Covariance Type:            nonrobust                                         \n",
      "==============================================================================\n",
      "                 coef    std err          t      P>|t|      [0.025      0.975]\n",
      "------------------------------------------------------------------------------\n",
      "const          1.9250      0.135     14.270      0.000       1.657       2.193\n",
      "X1             1.4743      0.044     33.861      0.000       1.388       1.561\n",
      "X2            -0.7943      0.025    -31.371      0.000      -0.845      -0.744\n",
      "==============================================================================\n",
      "Omnibus:                        1.671   Durbin-Watson:                   1.841\n",
      "Prob(Omnibus):                  0.434   Jarque-Bera (JB):                1.328\n",
      "Skew:                           0.280   Prob(JB):                        0.515\n",
      "Kurtosis:                       3.079   Cond. No.                         15.1\n",
      "==============================================================================\n",
      "\n",
      "Notes:\n",
      "[1] Standard Errors assume that the covariance matrix of the errors is correctly specified.\n"
     ]
    }
   ],
   "source": [
    "# Agregar columna de constante (intercepto)\n",
    "X = sm.add_constant(df[[\"X1\", \"X2\"]])\n",
    "model = sm.OLS(df[\"Y\"], X)\n",
    "results = model.fit()\n",
    "print(results.summary())"
   ]
  },
  {
   "cell_type": "markdown",
   "id": "eb2d38a7",
   "metadata": {},
   "source": [
    "Puntos clave del `summary()`:\n",
    "* coef: estimadores de $\\beta_0$, $\\beta_1$, $\\beta_2$\n",
    "* std err: error estándar de cada coeficiente\n",
    "* t: estadístico t = coef / std err\n",
    "* P > |t|: p-valor para $H_0$: coef = 0\n",
    "* [0.025, 0.975]: intervalo de confianza al 95%\n",
    "* R-squared / Adj. R-squared: bondad de ajuste\n",
    "* F-statistic y Prob (F-statistic): prueba conjunta de que todos los coeficientes (excepto el intercepto) sean cero."
   ]
  },
  {
   "cell_type": "markdown",
   "id": "13ea1ffd",
   "metadata": {},
   "source": [
    "## Ajuste vía fórmula (`Formula API`)"
   ]
  },
  {
   "cell_type": "code",
   "execution_count": 11,
   "id": "42b1c8e5",
   "metadata": {},
   "outputs": [
    {
     "name": "stdout",
     "output_type": "stream",
     "text": [
      "                            OLS Regression Results                            \n",
      "==============================================================================\n",
      "Dep. Variable:                      Y   R-squared:                       0.452\n",
      "Model:                            OLS   Adj. R-squared:                  0.446\n",
      "Method:                 Least Squares   F-statistic:                     80.85\n",
      "Date:                Sun, 15 Jun 2025   Prob (F-statistic):           1.86e-14\n",
      "Time:                        00:47:19   Log-Likelihood:                -196.82\n",
      "No. Observations:                 100   AIC:                             397.6\n",
      "Df Residuals:                      98   BIC:                             402.8\n",
      "Df Model:                           1                                         \n",
      "Covariance Type:            nonrobust                                         \n",
      "==============================================================================\n",
      "                 coef    std err          t      P>|t|      [0.025      0.975]\n",
      "------------------------------------------------------------------------------\n",
      "Intercept      2.0470      0.480      4.261      0.000       1.094       3.000\n",
      "X2            -0.8109      0.090     -8.992      0.000      -0.990      -0.632\n",
      "==============================================================================\n",
      "Omnibus:                        1.508   Durbin-Watson:                   1.915\n",
      "Prob(Omnibus):                  0.471   Jarque-Bera (JB):                1.275\n",
      "Skew:                           0.094   Prob(JB):                        0.529\n",
      "Kurtosis:                       2.480   Cond. No.                         15.1\n",
      "==============================================================================\n",
      "\n",
      "Notes:\n",
      "[1] Standard Errors assume that the covariance matrix of the errors is correctly specified.\n"
     ]
    }
   ],
   "source": [
    "# Notaxión tipo R: Y ~ X1 + X2\n",
    "\n",
    "formula_model = smf.ols(\"Y ~ X2 + X2\", data = df)\n",
    "formula_results = formula_model.fit()\n",
    "print(formula_results.summary())"
   ]
  },
  {
   "cell_type": "markdown",
   "id": "b6a81500",
   "metadata": {},
   "source": [
    "* Más legible cuando hay muchas variables o transformaciones (`np.log(X1)`)"
   ]
  },
  {
   "cell_type": "markdown",
   "id": "91968311",
   "metadata": {},
   "source": [
    "## Pruebas de hipótesis\n",
    "\n",
    "a. Test individual (t-test)\n",
    "* Hipótesis: $H_0: \\, \\beta_j = 0$ vs. $H_1: \\, \\beta_j \\neq 0$\n",
    "* Se lee el $P > \\vert t \\vert$ en el summary. Si $p<\\alpha$ (p.ej. 0.05) rechazamos $H_0$."
   ]
  },
  {
   "cell_type": "code",
   "execution_count": 12,
   "id": "dc8bdc38",
   "metadata": {},
   "outputs": [
    {
     "name": "stdout",
     "output_type": "stream",
     "text": [
      "t(97) = 33.861, p = 0.000\n"
     ]
    }
   ],
   "source": [
    "# Ejemplo: prueba manual usando results\n",
    "t1, p1 = results.tvalues[\"X1\"], results.pvalues[\"X1\"]\n",
    "print(f\"t({results.df_resid:.0f}) = {t1:.3f}, p = {p1:.3f}\")"
   ]
  },
  {
   "cell_type": "markdown",
   "id": "91feae6e",
   "metadata": {},
   "source": [
    "b. Test conjunto (F-test)\n",
    "* Hipótesis: $H_0: \\, \\beta_1 = \\beta_2 = \\ldots = \\beta_k = 0$ vs. $H_1:$ al menos uno $\\neq 0$\n",
    "* Se lee Prob (F-statistic)"
   ]
  },
  {
   "cell_type": "code",
   "execution_count": 17,
   "id": "bec79029",
   "metadata": {},
   "outputs": [
    {
     "name": "stdout",
     "output_type": "stream",
     "text": [
      "F = 1086.25, p = 0.000\n"
     ]
    }
   ],
   "source": [
    "f_stat, f_pval = results.fvalue, results.f_pvalue\n",
    "print(f\"F = {f_stat:.2f}, p = {f_pval:.3f}\")"
   ]
  },
  {
   "cell_type": "markdown",
   "id": "350b1095",
   "metadata": {},
   "source": [
    "## Diagnóstico básico de supuestos\n",
    "\n",
    "1. Residuos vs. ajustados"
   ]
  },
  {
   "cell_type": "code",
   "execution_count": 20,
   "id": "8382363b",
   "metadata": {},
   "outputs": [
    {
     "data": {
      "image/png": "[encoded data removed]",
      "text/plain": [
       "<Figure size 640x480 with 1 Axes>"
      ]
     },
     "metadata": {},
     "output_type": "display_data"
    }
   ],
   "source": [
    "fitted = results.fittedvalues\n",
    "resid = results.resid\n",
    "import matplotlib.pyplot as plt\n",
    "\n",
    "plt.scatter(fitted, resid)\n",
    "plt.axhline(0, linestyle = \"--\")\n",
    "plt.xlabel(\"Valores ajustados\")\n",
    "plt.ylabel(\"Residuos\")\n",
    "plt.title(\"Residuos vs. Ajustados\")\n",
    "plt.show()"
   ]
  },
  {
   "cell_type": "markdown",
   "id": "9901f3fe",
   "metadata": {},
   "source": [
    "* Evalúa heterocedasticidad y linealidad"
   ]
  },
  {
   "cell_type": "markdown",
   "id": "97b0af0f",
   "metadata": {},
   "source": [
    "2. QQ-plot de residuos"
   ]
  },
  {
   "cell_type": "code",
   "execution_count": 22,
   "id": "32073a82",
   "metadata": {},
   "outputs": [
    {
     "data": {
      "image/png": "[encoded data removed]",
      "text/plain": [
       "<Figure size 640x480 with 1 Axes>"
      ]
     },
     "metadata": {},
     "output_type": "display_data"
    }
   ],
   "source": [
    "sm.qqplot(resid, line = \"s\")\n",
    "plt.show()"
   ]
  },
  {
   "cell_type": "markdown",
   "id": "bd161e15",
   "metadata": {},
   "source": [
    "* Verifica normalidad de errores"
   ]
  }
 ],
 "metadata": {
  "kernelspec": {
   "display_name": "base",
   "language": "python",
   "name": "python3"
  },
  "language_info": {
   "codemirror_mode": {
    "name": "ipython",
    "version": 3
   },
   "file_extension": ".py",
   "mimetype": "text/x-python",
   "name": "python",
   "nbconvert_exporter": "python",
   "pygments_lexer": "ipython3",
   "version": "3.12.7"
  }
 },
 "nbformat": 4,
 "nbformat_minor": 5
}
